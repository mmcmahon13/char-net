{
 "cells": [
  {
   "cell_type": "markdown",
   "metadata": {},
   "source": [
    "#### Load character JSON, create a file containing all of their spoken text"
   ]
  },
  {
   "cell_type": "code",
   "execution_count": 3,
   "metadata": {
    "collapsed": false
   },
   "outputs": [
    {
     "name": "stdout",
     "output_type": "stream",
     "text": [
      "successfully loaded json\n"
     ]
    }
   ],
   "source": [
    "import os\n",
    "\n",
    "# to read in JSON character objects \n",
    "import json\n",
    "\n",
    "wk_dir = os.path.dirname(os.path.realpath('__file__'))\n",
    "\n",
    "#json_filename = os.path.join(wk_dir, \"..\", \"booknlp_output\\\\potter.all.book.txt\")\n",
    "json_filename = \"C:\\\\Users\\\\Molly\\\\Google Drive\\\\senior classes\\\\nlp\\\\term_project\\\\char-net\\\\booknlp_output\\\\book.id.book\";\n",
    "\n",
    "with open(json_filename) as json_file:\n",
    "\tchar_json = json.load(json_file)\n",
    "print \"successfully loaded json\""
   ]
  },
  {
   "cell_type": "code",
   "execution_count": 20,
   "metadata": {
    "collapsed": false
   },
   "outputs": [
    {
     "name": "stdout",
     "output_type": "stream",
     "text": [
      "Barty_Crouch\n",
      "Lockhart\n",
      "Mrs._Cole\n",
      "Madam_Malkin\n",
      "Aragog\n",
      "Justin\n",
      "Dedalus\n",
      "Xenophilius\n",
      "Harry\n",
      "Lily\n",
      "Crookshanks\n",
      "Karkaroff\n",
      "Madam_Pomfrey\n",
      "Dad\n",
      "Seamus\n",
      "Mr._Weasley\n",
      "Ronan\n",
      "Rufus_Scrimgeour\n",
      "Snape\n",
      "Bill\n",
      "Cornelius_Fudge\n",
      "Crabbe\n",
      "Roger_Davies\n",
      "Dumbledore\n",
      "Tom_Riddle\n",
      "Mr._Diggory\n",
      "Godric\n",
      "George\n",
      "Mundungus\n",
      "Gringotts\n",
      "Greyback\n",
      "Mrs._Weasley\n",
      "Lupin\n",
      "Katie\n",
      "Ogden\n",
      "McLaggen\n",
      "Marietta\n",
      "Krum\n",
      "Cadogan\n",
      "Mr._Roberts\n",
      "Flitwick\n",
      "Zacharias_Smith\n",
      "Luna\n",
      "Montague\n",
      "Nicolas_Flamel\n",
      "Ludo_Bagman\n",
      "Percy\n",
      "Mrs._Figg\n",
      "Ron\n",
      "Mrs._Norris\n",
      "Dobby\n",
      "Mrs._Dursley\n",
      "Firenze\n",
      "Ollivander\n",
      "Fleur\n",
      "Parvati\n",
      "James\n",
      "Maxime\n",
      "Malfoys\n",
      "Dudley\n",
      "Griphook\n",
      "Hogsmeade\n",
      "Macnair\n",
      "Ginny\n",
      "Ravenclaw\n",
      "Lee_Jordan\n",
      "Lucius\n",
      "Norbert\n",
      "Zabini\n",
      "Rita_Skeeter\n",
      "Neville\n",
      "Arthur\n",
      "Hagrid\n",
      "Dursleys\n",
      "Quirrell\n",
      "Slughorn\n",
      "Charlie\n",
      "Buckbeak\n",
      "Umbridge\n",
      "Hufflepuff\n",
      "Ernie\n",
      "E_R_T_W_E_N_T_Y\n",
      "Pettigrew\n",
      "Hedwig\n",
      "Frank\n",
      "Binns\n",
      "Dean\n",
      "Mr._Dursley\n",
      "Mark\n",
      "Felix_Felicis\n",
      "Kingsley\n",
      "Vernon_Dursley\n",
      "Hepzibah\n",
      "Phineas_Nigellus\n",
      "Trelawney\n",
      "Malfoy\n",
      "Aberforth\n",
      "Hogwarts_Express\n",
      "Hogwarts\n",
      "Voldemort\n",
      "Wood\n",
      "Morfin\n",
      "Grawp\n",
      "Sirius\n",
      "Warrington\n",
      "Beauxbatons\n",
      "Stan\n",
      "Ministry_of_Magic\n",
      "Ariana\n",
      "Cho\n",
      "Amos_Diggory\n",
      "Lavender_Brown\n",
      "Colin\n",
      "Bertha_Jorkins\n",
      "Fawkes\n",
      "Padma\n",
      "Kreacher\n",
      "Slytherin\n",
      "Hannah_Abbott\n",
      "Pigwidgeon\n",
      "Pansy_Parkinson\n",
      "Mr._Crouch\n",
      "Dirk\n",
      "Mrs._Cattermole\n",
      "Mr._Filch\n",
      "Winky\n",
      "Alicia\n",
      "Borgin\n",
      "Michael_Corner\n",
      "Dolohov\n",
      "Fred\n",
      "Narcissa\n",
      "Johnson\n",
      "Goyle\n",
      "Yaxley\n",
      "Bathilda\n",
      "Tonks\n",
      "Madam_Rosmerta\n",
      "Marge\n",
      "Grubbly-Plank\n",
      "Petunia_Dursley\n",
      "Minerva_McGonagall\n",
      "Cedric\n",
      "Gregorovitch\n",
      "Molly_Weasley\n",
      "Nick\n",
      "Madam_Hooch\n",
      "Fang\n",
      "Hermione\n",
      "Albus_Dumbledore\n",
      "Bellatrix\n",
      "Errol\n",
      "Muriel\n",
      "Moody\n",
      "done\n"
     ]
    }
   ],
   "source": [
    "path = \"hp_docs\"\n",
    "\n",
    "if not os.path.exists(path):\n",
    "    os.makedirs(path)\n",
    "    \n",
    "doclist = open(\"hp.doclist\", 'w');\n",
    "\n",
    "for character in char_json[\"characters\"]:\n",
    "    # TODO: throw out characters that are mentioned less than 10 times (play with this threshold?)\n",
    "    if character[\"NNPcount\"] > 20:\n",
    "        char_name = character[\"names\"][0]['n']\n",
    "        char_name = \"_\".join(char_name.split())\n",
    "        print char_name\n",
    "        doclist.write(\"database/docs/\" + path + '/' + char_name + \"_quotes\")\n",
    "        doclist.write('\\n')\n",
    "        f = open(os.path.join(path, char_name + \"_quotes\"), 'w');\n",
    "        for word_dict in character['speaking']:\n",
    "            # print all spoken dialogue to file\n",
    "            f.write(word_dict['w'].encode('utf8'))\n",
    "            f.write('\\n')\n",
    "        f.close()\n",
    "doclist.close()\n",
    "print \"done\""
   ]
  },
  {
   "cell_type": "markdown",
   "metadata": {},
   "source": [
    "##### At this point, go get the files produced, put them in the appropriate OpinionFinder directories, and run OpinionFinder on them"
   ]
  },
  {
   "cell_type": "code",
   "execution_count": 14,
   "metadata": {
    "collapsed": false
   },
   "outputs": [
    {
     "ename": "IOError",
     "evalue": "[Errno 2] No such file or directory: u'hp_docs\\\\Barty Crouch_quotes_auto_anns\\\\exp_polarity.txt'",
     "output_type": "error",
     "traceback": [
      "\u001b[1;31m---------------------------------------------------------------------------\u001b[0m",
      "\u001b[1;31mIOError\u001b[0m                                   Traceback (most recent call last)",
      "\u001b[1;32m<ipython-input-14-7fcf009da3a1>\u001b[0m in \u001b[0;36m<module>\u001b[1;34m()\u001b[0m\n\u001b[0;32m      6\u001b[0m         \u001b[0mchar_name\u001b[0m \u001b[1;33m=\u001b[0m \u001b[0mcharacter\u001b[0m\u001b[1;33m[\u001b[0m\u001b[1;34m\"names\"\u001b[0m\u001b[1;33m]\u001b[0m\u001b[1;33m[\u001b[0m\u001b[1;36m0\u001b[0m\u001b[1;33m]\u001b[0m\u001b[1;33m[\u001b[0m\u001b[1;34m'n'\u001b[0m\u001b[1;33m]\u001b[0m\u001b[1;33m\u001b[0m\u001b[0m\n\u001b[0;32m      7\u001b[0m         \u001b[1;31m# read in polarity files\u001b[0m\u001b[1;33m\u001b[0m\u001b[1;33m\u001b[0m\u001b[0m\n\u001b[1;32m----> 8\u001b[1;33m         \u001b[0mpolarity_file\u001b[0m \u001b[1;33m=\u001b[0m \u001b[0mopen\u001b[0m\u001b[1;33m(\u001b[0m\u001b[0mos\u001b[0m\u001b[1;33m.\u001b[0m\u001b[0mpath\u001b[0m\u001b[1;33m.\u001b[0m\u001b[0mjoin\u001b[0m\u001b[1;33m(\u001b[0m\u001b[0mpath\u001b[0m\u001b[1;33m,\u001b[0m \u001b[0mchar_name\u001b[0m \u001b[1;33m+\u001b[0m \u001b[1;34m\"_quotes_auto_anns\\\\exp_polarity.txt\"\u001b[0m\u001b[1;33m)\u001b[0m\u001b[1;33m,\u001b[0m \u001b[1;34m'r'\u001b[0m\u001b[1;33m)\u001b[0m\u001b[1;33m\u001b[0m\u001b[0m\n\u001b[0m\u001b[0;32m      9\u001b[0m         \u001b[0mf\u001b[0m \u001b[1;33m=\u001b[0m \u001b[0mopen\u001b[0m\u001b[1;33m(\u001b[0m\u001b[0mos\u001b[0m\u001b[1;33m.\u001b[0m\u001b[0mpath\u001b[0m\u001b[1;33m.\u001b[0m\u001b[0mjoin\u001b[0m\u001b[1;33m(\u001b[0m\u001b[0mpath\u001b[0m\u001b[1;33m,\u001b[0m \u001b[0mchar_name\u001b[0m \u001b[1;33m+\u001b[0m \u001b[1;34m\"_quotes\"\u001b[0m\u001b[1;33m)\u001b[0m\u001b[1;33m,\u001b[0m \u001b[1;34m'r'\u001b[0m\u001b[1;33m)\u001b[0m\u001b[1;33m\u001b[0m\u001b[0m\n\u001b[0;32m     10\u001b[0m         \u001b[1;32mfor\u001b[0m \u001b[0mline\u001b[0m \u001b[1;32min\u001b[0m \u001b[0mpolarity_file\u001b[0m\u001b[1;33m.\u001b[0m\u001b[0mread\u001b[0m\u001b[1;33m(\u001b[0m\u001b[1;33m)\u001b[0m\u001b[1;33m.\u001b[0m\u001b[0msplit\u001b[0m\u001b[1;33m(\u001b[0m\u001b[1;34m'\\n'\u001b[0m\u001b[1;33m)\u001b[0m\u001b[1;33m:\u001b[0m\u001b[1;33m\u001b[0m\u001b[0m\n",
      "\u001b[1;31mIOError\u001b[0m: [Errno 2] No such file or directory: u'hp_docs\\\\Barty Crouch_quotes_auto_anns\\\\exp_polarity.txt'"
     ]
    }
   ],
   "source": [
    "opinion_path = 'C:\\\\Users\\\\Molly\\\\Google Drive\\\\senior classes\\\\nlp\\\\term_project\\\\opinionfinderv2.0\\\\hp_docs'\n",
    "\n",
    "for character in char_json[\"characters\"]:\n",
    "    # TODO: throw out characters that are mentioned less than 10 times (play with this threshold?)\n",
    "    if character[\"NNPcount\"] > 20:\n",
    "        char_name = character[\"names\"][0]['n']\n",
    "        # read in polarity files\n",
    "        polarity_file = open(os.path.join(path, char_name + \"_quotes_auto_anns\\\\exp_polarity.txt\"), 'r')\n",
    "        f = open(os.path.join(path, char_name + \"_quotes\"), 'r')\n",
    "        for line in polarity_file.read().split('\\n'):\n",
    "            print line\n",
    "            \n",
    "            \n"
   ]
  },
  {
   "cell_type": "code",
   "execution_count": null,
   "metadata": {
    "collapsed": true
   },
   "outputs": [],
   "source": []
  }
 ],
 "metadata": {
  "kernelspec": {
   "display_name": "Python 2",
   "language": "python",
   "name": "python2"
  },
  "language_info": {
   "codemirror_mode": {
    "name": "ipython",
    "version": 2
   },
   "file_extension": ".py",
   "mimetype": "text/x-python",
   "name": "python",
   "nbconvert_exporter": "python",
   "pygments_lexer": "ipython2",
   "version": "2.7.10"
  }
 },
 "nbformat": 4,
 "nbformat_minor": 0
}
